{
 "cells": [
  {
   "cell_type": "code",
   "execution_count": null,
   "id": "ebfb9875-6b33-446a-bf81-56c3da072f88",
   "metadata": {},
   "outputs": [],
   "source": [
    "import os\n",
    "import sys\n",
    "\n",
    "module_path = os.path.abspath(os.path.join('../ipsim'))\n",
    "if module_path not in sys.path:\n",
    "    sys.path.append(module_path)\n",
    "\n",
    "from ipsim import *\n",
    "\n",
    "import numpy as np\n",
    "import random as rnd\n",
    "import matplotlib.pyplot as plt"
   ]
  },
  {
   "cell_type": "code",
   "execution_count": null,
   "id": "650832b1-8cb2-41eb-99a2-67d8663ef396",
   "metadata": {},
   "outputs": [],
   "source": [
    "class ECSRTTest:\n",
    "    Ea  = 72750     # activation energy J/gmol\n",
    "    R   = 8.314     # gas constant J/gmol/K\n",
    "    k0  = 7.2e10    # Arrhenius rate constant 1/min\n",
    "    dHr = -5.0e4    # Enthalpy of reaction [J/mol]\n",
    "    rho = 1000.0    # Density [g/L]\n",
    "    Cp  = 0.239     # Heat capacity [J/g/K]\n",
    "    UA  = 5.0e4     # Heat transfer [J/min/K]\n",
    "    \n",
    "    V   = 100.0     # Volume [L]\n",
    "    q   = 100.0     # Flowrate [L/min]\n",
    "    cAi = 1.0       # Inlet feed concentration [mol/L]\n",
    "    Ti  = 350.0     # Inlet feed temperature [K]\n",
    "    Tc  = 300.0     # Coolant temperature [K]\n",
    "\n",
    "    cA0 = 0.5;      # Initial concentration [mol/L]\n",
    "    T0  = 350.0;    # Initial temperature [K]\n",
    "    \n",
    "    def k(T):\n",
    "        return ECSRTTest.k0*np.exp(-ECSRTTest.Ea/ECSRTTest.R/T)"
   ]
  },
  {
   "cell_type": "code",
   "execution_count": null,
   "id": "82087646",
   "metadata": {},
   "outputs": [],
   "source": [
    "class ExothermicContinuousStirredTankReactor0(ProcessNode):\n",
    "    def __init__(self, name, *, cA0 = ECSRTTest.cA0, T0 = ECSRTTest.T0, V = ECSRTTest.V\n",
    "                , dHr = ECSRTTest.dHr, rho = ECSRTTest.rho, Cp=ECSRTTest.Cp,UA = ECSRTTest.UA):\n",
    "        super().__init__(name)\n",
    "        self._cA = cA0\n",
    "        self._T = T0\n",
    "        self._V = V\n",
    "        self._dHr = dHr\n",
    "        self._rho=rho\n",
    "        self._Cp = Cp\n",
    "        self._UA = UA\n",
    "        self.create_input(\"q\")\n",
    "        self.create_input(\"cAi\")\n",
    "        self.create_input(\"Ti\")\n",
    "        self.create_input(\"Tc\")\n",
    "        self.create_output(\"cA\")\n",
    "        self.create_output(\"T\")\n",
    "    \n",
    "    def evaluate(self):\n",
    "        i = self.inputs()\n",
    "        q   = i[\"q\"]()\n",
    "        cAi = i[\"cAi\"]()\n",
    "        Ti  = i[\"Ti\"]()\n",
    "        Tc  = i[\"Tc\"]()\n",
    "        cA  = self._cA\n",
    "        T   = self._T\n",
    "        \n",
    "        kcA = ECSRTTest.k(T)*cA\n",
    "        dt = self._model.dt()\n",
    "\n",
    "        qV    = q/self._V\n",
    "        dHpC  = -self._dHr/(self._rho*self._Cp)\n",
    "        UAVpC = self._UA/(self._V*self._rho*self._Cp)\n",
    "     \n",
    "        _dcA  = (qV*(cAi-cA) - kcA)*dt\n",
    "        _dT  = (qV*(Ti-T)+dHpC*kcA+UAVpC*(Tc-T))*dt\n",
    "        cA = cA + _dcA\n",
    "        T  = T  + _dT\n",
    "        \n",
    "        self._cA = cA\n",
    "        self._T = T\n",
    "\n",
    "        self.set_result(\"cA\",cA)\n",
    "        self.set_result(\"T\",T)"
   ]
  },
  {
   "cell_type": "code",
   "execution_count": null,
   "id": "b7492cca",
   "metadata": {},
   "outputs": [],
   "source": [
    "processModel = ProcessModel(\"test\",dt=0.005)\n",
    "processModel.add_node(ProcessInputNode(\"InletFeed\", {\"q\":100,\"cAi\":1,\"Ti\":350}))\n",
    "processModel.add_node(ProcessInputNode(\"Coolant\", {\"Tc\":300}))\n",
    "processModel.add_node(ExothermicContinuousStirredTankReactor0(\"ECSTR\"))\n",
    "processModel.bond_nodes(\"ECSTR\",\"q\",\"InletFeed\",\"q\")\n",
    "processModel.bond_nodes(\"ECSTR\",\"cAi\",\"InletFeed\",\"cAi\")\n",
    "processModel.bond_nodes(\"ECSTR\",\"Ti\",\"InletFeed\",\"Ti\")\n",
    "processModel.bond_nodes(\"ECSTR\",\"Tc\",\"Coolant\",\"Tc\")"
   ]
  },
  {
   "cell_type": "code",
   "execution_count": null,
   "id": "2ab038df",
   "metadata": {},
   "outputs": [],
   "source": [
    "processModel.reset_time(0.005)"
   ]
  },
  {
   "cell_type": "code",
   "execution_count": null,
   "id": "0b44423a",
   "metadata": {},
   "outputs": [],
   "source": [
    "cAs  = []\n",
    "Ts   = []\n",
    "for i in range(5000):\n",
    "    state = processModel.next_state((\"ECSTR\",))\n",
    "    cAs.append(state['ECSTR']['cA'])\n",
    "    Ts.append(state['ECSTR']['T'])\n",
    "        \n",
    "plt.figure(figsize=(12,3))\n",
    "plt.subplot(1, 2, 1)\n",
    "plt.plot(cAs)\n",
    "plt.title('Concentration [mol/L]')\n",
    "plt.subplot(1, 2, 2)\n",
    "plt.plot(Ts)\n",
    "plt.title('Temperature [K]')\n",
    "plt.show()"
   ]
  },
  {
   "cell_type": "code",
   "execution_count": null,
   "id": "3ab9c9d7-a8a4-4e17-acb8-6edab012cd69",
   "metadata": {},
   "outputs": [],
   "source": []
  }
 ],
 "metadata": {
  "kernelspec": {
   "display_name": "Python 3 (ipykernel)",
   "language": "python",
   "name": "python3"
  },
  "language_info": {
   "codemirror_mode": {
    "name": "ipython",
    "version": 3
   },
   "file_extension": ".py",
   "mimetype": "text/x-python",
   "name": "python",
   "nbconvert_exporter": "python",
   "pygments_lexer": "ipython3",
   "version": "3.8.6"
  }
 },
 "nbformat": 4,
 "nbformat_minor": 5
}
